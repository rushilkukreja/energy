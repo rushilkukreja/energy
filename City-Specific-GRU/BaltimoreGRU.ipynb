{
  "nbformat": 4,
  "nbformat_minor": 0,
  "metadata": {
    "colab": {
      "provenance": [],
      "authorship_tag": "ABX9TyOZ7PcvuFsKoPkfJ/0xDEwg",
      "include_colab_link": true
    },
    "kernelspec": {
      "name": "python3",
      "display_name": "Python 3"
    },
    "language_info": {
      "name": "python"
    }
  },
  "cells": [
    {
      "cell_type": "markdown",
      "metadata": {
        "id": "view-in-github",
        "colab_type": "text"
      },
      "source": [
        "<a href=\"https://colab.research.google.com/github/rushilkukreja/energy/blob/main/BaltimoreGRU.ipynb\" target=\"_parent\"><img src=\"https://colab.research.google.com/assets/colab-badge.svg\" alt=\"Open In Colab\"/></a>"
      ]
    },
    {
      "cell_type": "code",
      "execution_count": 1,
      "metadata": {
        "colab": {
          "base_uri": "https://localhost:8080/"
        },
        "id": "yV4ajlinYkwl",
        "outputId": "a3aeb498-9999-43e5-a9be-1feec1c3be31"
      },
      "outputs": [
        {
          "metadata": {
            "tags": null
          },
          "name": "stderr",
          "output_type": "stream",
          "text": [
            "/usr/local/lib/python3.10/dist-packages/keras/src/layers/rnn/rnn.py:204: UserWarning: Do not pass an `input_shape`/`input_dim` argument to a layer. When using Sequential models, prefer using an `Input(shape)` object as the first layer in the model instead.\n",
            "  super().__init__(**kwargs)\n"
          ]
        },
        {
          "output_type": "stream",
          "name": "stdout",
          "text": [
            "Epoch 1/20\n",
            "\u001b[1m564/564\u001b[0m \u001b[32m━━━━━━━━━━━━━━━━━━━━\u001b[0m\u001b[37m\u001b[0m \u001b[1m81s\u001b[0m 136ms/step - loss: 0.0237 - val_loss: 0.0085 - learning_rate: 0.0010\n",
            "Epoch 2/20\n",
            "\u001b[1m564/564\u001b[0m \u001b[32m━━━━━━━━━━━━━━━━━━━━\u001b[0m\u001b[37m\u001b[0m \u001b[1m78s\u001b[0m 129ms/step - loss: 0.0085 - val_loss: 0.0077 - learning_rate: 0.0010\n",
            "Epoch 3/20\n",
            "\u001b[1m564/564\u001b[0m \u001b[32m━━━━━━━━━━━━━━━━━━━━\u001b[0m\u001b[37m\u001b[0m \u001b[1m81s\u001b[0m 127ms/step - loss: 0.0076 - val_loss: 0.0072 - learning_rate: 0.0010\n",
            "Epoch 4/20\n",
            "\u001b[1m564/564\u001b[0m \u001b[32m━━━━━━━━━━━━━━━━━━━━\u001b[0m\u001b[37m\u001b[0m \u001b[1m71s\u001b[0m 127ms/step - loss: 0.0070 - val_loss: 0.0085 - learning_rate: 0.0010\n",
            "Epoch 5/20\n",
            "\u001b[1m564/564\u001b[0m \u001b[32m━━━━━━━━━━━━━━━━━━━━\u001b[0m\u001b[37m\u001b[0m \u001b[1m82s\u001b[0m 127ms/step - loss: 0.0070 - val_loss: 0.0063 - learning_rate: 0.0010\n",
            "Epoch 6/20\n",
            "\u001b[1m564/564\u001b[0m \u001b[32m━━━━━━━━━━━━━━━━━━━━\u001b[0m\u001b[37m\u001b[0m \u001b[1m86s\u001b[0m 133ms/step - loss: 0.0066 - val_loss: 0.0058 - learning_rate: 0.0010\n",
            "Epoch 7/20\n",
            "\u001b[1m564/564\u001b[0m \u001b[32m━━━━━━━━━━━━━━━━━━━━\u001b[0m\u001b[37m\u001b[0m \u001b[1m79s\u001b[0m 128ms/step - loss: 0.0065 - val_loss: 0.0058 - learning_rate: 0.0010\n",
            "Epoch 8/20\n",
            "\u001b[1m564/564\u001b[0m \u001b[32m━━━━━━━━━━━━━━━━━━━━\u001b[0m\u001b[37m\u001b[0m \u001b[1m71s\u001b[0m 126ms/step - loss: 0.0063 - val_loss: 0.0059 - learning_rate: 0.0010\n",
            "Epoch 9/20\n",
            "\u001b[1m564/564\u001b[0m \u001b[32m━━━━━━━━━━━━━━━━━━━━\u001b[0m\u001b[37m\u001b[0m \u001b[1m70s\u001b[0m 123ms/step - loss: 0.0063 - val_loss: 0.0056 - learning_rate: 0.0010\n",
            "Epoch 10/20\n",
            "\u001b[1m564/564\u001b[0m \u001b[32m━━━━━━━━━━━━━━━━━━━━\u001b[0m\u001b[37m\u001b[0m \u001b[1m87s\u001b[0m 133ms/step - loss: 0.0062 - val_loss: 0.0056 - learning_rate: 0.0010\n",
            "Epoch 11/20\n",
            "\u001b[1m564/564\u001b[0m \u001b[32m━━━━━━━━━━━━━━━━━━━━\u001b[0m\u001b[37m\u001b[0m \u001b[1m81s\u001b[0m 131ms/step - loss: 0.0061 - val_loss: 0.0055 - learning_rate: 0.0010\n",
            "Epoch 12/20\n",
            "\u001b[1m564/564\u001b[0m \u001b[32m━━━━━━━━━━━━━━━━━━━━\u001b[0m\u001b[37m\u001b[0m \u001b[1m75s\u001b[0m 132ms/step - loss: 0.0059 - val_loss: 0.0057 - learning_rate: 0.0010\n",
            "Epoch 13/20\n",
            "\u001b[1m564/564\u001b[0m \u001b[32m━━━━━━━━━━━━━━━━━━━━\u001b[0m\u001b[37m\u001b[0m \u001b[1m78s\u001b[0m 126ms/step - loss: 0.0059 - val_loss: 0.0061 - learning_rate: 0.0010\n",
            "Epoch 14/20\n",
            "\u001b[1m564/564\u001b[0m \u001b[32m━━━━━━━━━━━━━━━━━━━━\u001b[0m\u001b[37m\u001b[0m \u001b[1m82s\u001b[0m 126ms/step - loss: 0.0059 - val_loss: 0.0053 - learning_rate: 0.0010\n",
            "Epoch 15/20\n",
            "\u001b[1m564/564\u001b[0m \u001b[32m━━━━━━━━━━━━━━━━━━━━\u001b[0m\u001b[37m\u001b[0m \u001b[1m81s\u001b[0m 125ms/step - loss: 0.0059 - val_loss: 0.0052 - learning_rate: 0.0010\n",
            "Epoch 16/20\n",
            "\u001b[1m564/564\u001b[0m \u001b[32m━━━━━━━━━━━━━━━━━━━━\u001b[0m\u001b[37m\u001b[0m \u001b[1m80s\u001b[0m 121ms/step - loss: 0.0059 - val_loss: 0.0053 - learning_rate: 0.0010\n",
            "Epoch 17/20\n",
            "\u001b[1m564/564\u001b[0m \u001b[32m━━━━━━━━━━━━━━━━━━━━\u001b[0m\u001b[37m\u001b[0m \u001b[1m84s\u001b[0m 125ms/step - loss: 0.0057 - val_loss: 0.0051 - learning_rate: 0.0010\n",
            "Epoch 18/20\n",
            "\u001b[1m564/564\u001b[0m \u001b[32m━━━━━━━━━━━━━━━━━━━━\u001b[0m\u001b[37m\u001b[0m \u001b[1m88s\u001b[0m 135ms/step - loss: 0.0056 - val_loss: 0.0055 - learning_rate: 0.0010\n",
            "Epoch 19/20\n",
            "\u001b[1m564/564\u001b[0m \u001b[32m━━━━━━━━━━━━━━━━━━━━\u001b[0m\u001b[37m\u001b[0m \u001b[1m74s\u001b[0m 132ms/step - loss: 0.0056 - val_loss: 0.0052 - learning_rate: 0.0010\n",
            "Epoch 20/20\n",
            "\u001b[1m564/564\u001b[0m \u001b[32m━━━━━━━━━━━━━━━━━━━━\u001b[0m\u001b[37m\u001b[0m \u001b[1m83s\u001b[0m 133ms/step - loss: 0.0056 - val_loss: 0.0054 - learning_rate: 0.0010\n",
            "\u001b[1m314/314\u001b[0m \u001b[32m━━━━━━━━━━━━━━━━━━━━\u001b[0m\u001b[37m\u001b[0m \u001b[1m6s\u001b[0m 19ms/step - loss: 0.0051\n",
            "Test loss: 0.005004687234759331\n",
            "\u001b[1m314/314\u001b[0m \u001b[32m━━━━━━━━━━━━━━━━━━━━\u001b[0m\u001b[37m\u001b[0m \u001b[1m8s\u001b[0m 25ms/step\n",
            "Mean Squared Error: 104797.05892889797\n",
            "Mean Absolute Error: 248.3632936226494\n"
          ]
        }
      ],
      "source": [
        "import pandas as pd\n",
        "import numpy as np\n",
        "from sklearn.preprocessing import MinMaxScaler\n",
        "from sklearn.model_selection import train_test_split\n",
        "from tensorflow.keras.models import Sequential\n",
        "from tensorflow.keras.layers import GRU, Dense, Dropout\n",
        "from tensorflow.keras.optimizers import Adam\n",
        "from tensorflow.keras.callbacks import EarlyStopping, ReduceLROnPlateau\n",
        "from sklearn.metrics import mean_squared_error, mean_absolute_error\n",
        "import matplotlib.pyplot as plt\n",
        "\n",
        "# Load and preprocess data\n",
        "df = pd.read_excel('/Baltimore.xlsx')\n",
        "df = df.dropna()\n",
        "\n",
        "temperature = df['Temperature'].values.reshape(-1, 1)\n",
        "energy_demand = df['EnergyDemand'].values.reshape(-1, 1)\n",
        "\n",
        "scaler_temp = MinMaxScaler()\n",
        "scaler_energy = MinMaxScaler()\n",
        "temperature_normalized = scaler_temp.fit_transform(temperature)\n",
        "energy_demand_normalized = scaler_energy.fit_transform(energy_demand)\n",
        "\n",
        "def create_sequences(data, seq_length):\n",
        "    sequences = []\n",
        "    targets = []\n",
        "    for i in range(len(data) - seq_length):\n",
        "        seq = data[i:i+seq_length]\n",
        "        target = data[i+seq_length]\n",
        "        sequences.append(seq)\n",
        "        targets.append(target)\n",
        "    return np.array(sequences), np.array(targets)\n",
        "\n",
        "seq_length = 48  # changed (doubled)\n",
        "X, y = create_sequences(temperature_normalized, seq_length)\n",
        "y = energy_demand_normalized[seq_length:]\n",
        "\n",
        "X_train, X_test, y_train, y_test = train_test_split(X, y, test_size=0.2, random_state=42)\n",
        "\n",
        "# more units, extra gru layer, 2 dropouts\n",
        "model = Sequential([\n",
        "    GRU(100, activation='tanh', return_sequences=True, input_shape=(seq_length, 1)),\n",
        "    Dropout(0.2),\n",
        "    GRU(50, activation='tanh'),\n",
        "    Dropout(0.2),\n",
        "    Dense(25, activation='relu'),\n",
        "    Dense(1)\n",
        "])\n",
        "\n",
        "model.compile(optimizer=Adam(learning_rate=0.001), loss='mse')\n",
        "\n",
        "# changed\n",
        "early_stopping = EarlyStopping(monitor='val_loss', patience=10, restore_best_weights=True)\n",
        "reduce_lr = ReduceLROnPlateau(monitor='val_loss', factor=0.2, patience=5, min_lr=0.0001)\n",
        "\n",
        "\n",
        "history = model.fit(\n",
        "    X_train, y_train,\n",
        "    epochs=20, #changed --> increase more bc early stopping is implemented\n",
        "    batch_size=64, #changed\n",
        "    validation_split=0.1,\n",
        "    callbacks=[early_stopping, reduce_lr],\n",
        "    verbose=1\n",
        ")\n",
        "\n",
        "loss = model.evaluate(X_test, y_test)\n",
        "print(f\"Test loss: {loss}\")\n",
        "\n",
        "predictions_normalized = model.predict(X_test)\n",
        "\n",
        "predictions = scaler_energy.inverse_transform(predictions_normalized)\n",
        "y_test_original = scaler_energy.inverse_transform(y_test)\n",
        "\n",
        "mse = mean_squared_error(y_test_original, predictions)\n",
        "mae = mean_absolute_error(y_test_original, predictions)\n",
        "print(f\"Mean Squared Error: {mse}\")\n",
        "print(f\"Mean Absolute Error: {mae}\")"
      ]
    }
  ]
}