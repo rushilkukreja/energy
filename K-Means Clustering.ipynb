{
 "cells": [
  {
   "cell_type": "code",
   "execution_count": 11,
   "metadata": {},
   "outputs": [
    {
     "name": "stdout",
     "output_type": "stream",
     "text": [
      "Cluster 0:\n",
      "  - Baltimore\n",
      "  - NYC\n",
      "  - Philadelphia\n",
      "  - San Antonio\n",
      "Cluster 1:\n",
      "  - Chicago\n",
      "  - Los Angeles\n",
      "Cluster 2:\n",
      "  - El Paso\n",
      "  - Omaha\n",
      "  - Portland\n",
      "  - San Diego\n",
      "  - Seattle\n",
      "  - Tallahassee\n",
      "  - Tampa\n",
      "  - Tucson\n",
      "Cluster 3:\n",
      "  - Houston\n"
     ]
    }
   ],
   "source": [
    "import pandas as pd\n",
    "from sklearn.preprocessing import StandardScaler\n",
    "from sklearn.cluster import KMeans\n",
    "import matplotlib.pyplot as plt\n",
    "import numpy as np\n",
    "\n",
    "city_files = [\n",
    "    'predictions/baltimore_predictions.csv', 'predictions/chicago_predictions.csv', 'predictions/elpaso_predictions.csv',\n",
    "    'predictions/houston_predictions.csv', 'predictions/losangeles_predictions.csv', 'predictions/nyc_predictions.csv',\n",
    "    'predictions/omaha_predictions.csv', 'predictions/philadelphia_predictions.csv', 'predictions/portland_predictions.csv',\n",
    "    'predictions/san_diego_predictions.csv', 'predictions/sanantonio_predictions.csv', 'predictions/seattle_predictions.csv',\n",
    "    'predictions/tallahassee_predictions.csv', 'predictions/tampa_predictions.csv', 'predictions/tuscon_predictions.csv'\n",
    "]\n",
    "\n",
    "city_names = [\n",
    "    'Baltimore', 'Chicago', 'El Paso', 'Houston', 'Los Angeles', 'NYC',\n",
    "    'Omaha', 'Philadelphia', 'Portland', 'San Diego', 'San Antonio',\n",
    "    'Seattle', 'Tallahassee', 'Tampa', 'Tucson'\n",
    "]\n",
    "\n",
    "city_features = []\n",
    "\n",
    "for file in city_files:\n",
    "    df = pd.read_csv(file)\n",
    "    df['Date'] = pd.to_datetime(df['Date'], errors='coerce')\n",
    "    df = df.dropna(subset=['Date'])\n",
    "    df_grouped = df.groupby('Date').agg({'Actual': ['mean', 'std']}).reset_index()\n",
    "    df_grouped.columns = ['Date', 'mean_actual', 'std_actual']\n",
    "    df_grouped.fillna(df_grouped.mean(), inplace=True)\n",
    "    city_features.append(df_grouped[['mean_actual', 'std_actual']].mean().values)\n",
    "\n",
    "features_df = pd.DataFrame(city_features, columns=['mean_actual', 'std_actual'])\n",
    "features_df.fillna(features_df.mean(), inplace=True)\n",
    "\n",
    "scaler = StandardScaler()\n",
    "scaled_features = scaler.fit_transform(features_df)\n",
    "\n",
    "kmeans = KMeans(n_clusters=4, random_state=42)\n",
    "kmeans.fit(scaled_features)\n",
    "features_df['cluster'] = kmeans.labels_\n",
    "\n",
    "clustered_cities = {i: [] for i in range(kmeans.n_clusters)}\n",
    "for city, cluster in zip(city_names, kmeans.labels_):\n",
    "    clustered_cities[cluster].append(city)\n",
    "\n",
    "for cluster_id, cities in clustered_cities.items():\n",
    "    print(f\"Cluster {cluster_id}:\")\n",
    "    for city in cities:\n",
    "        print(f\"  - {city}\")\n",
    "\n",
    "plt.scatter(features_df['mean_actual'], features_df['std_actual'], c=kmeans.labels_, cmap='viridis')\n",
    "plt.xlabel('Mean Actual Energy Demand')\n",
    "plt.ylabel('Standard Deviation of Actual Energy Demand')\n",
    "plt.title('K-Means Clustering of Cities based on Actual Energy Demand')\n",
    "plt.colorbar(label='Cluster')\n",
    "plt.show()"
   ]
  },
  {
   "cell_type": "code",
   "execution_count": null,
   "metadata": {},
   "outputs": [],
   "source": []
  },
  {
   "cell_type": "code",
   "execution_count": null,
   "metadata": {},
   "outputs": [],
   "source": []
  }
 ],
 "metadata": {
  "kernelspec": {
   "display_name": "Python 3",
   "language": "python",
   "name": "python3"
  },
  "language_info": {
   "codemirror_mode": {
    "name": "ipython",
    "version": 3
   },
   "file_extension": ".py",
   "mimetype": "text/x-python",
   "name": "python",
   "nbconvert_exporter": "python",
   "pygments_lexer": "ipython3",
   "version": "3.9.6"
  }
 },
 "nbformat": 4,
 "nbformat_minor": 2
}
